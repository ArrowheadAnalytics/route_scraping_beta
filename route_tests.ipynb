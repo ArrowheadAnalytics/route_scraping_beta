{
 "cells": [
  {
   "cell_type": "code",
   "execution_count": 3,
   "metadata": {},
   "outputs": [
    {
     "name": "stdout",
     "output_type": "stream",
     "text": [
      "Number of objects is 3 \n"
     ]
    }
   ],
   "source": [
    "import cv2\n",
    "from skimage.morphology import skeletonize\n",
    "import numpy as np\n",
    "from scipy import ndimage\n",
    "\n",
    "#Read in image\n",
    "image = cv2.imread('example_image.jpeg')\n",
    "\n",
    "\n",
    "#Color boundary to get white pixels\n",
    "lower_white = np.array([230, 230, 230])\n",
    "upper_white = np.array([255, 255, 255])\n",
    "\n",
    "#mask image for white pixels\n",
    "mask = cv2.inRange(image, lower_white, upper_white)\n",
    "c_pixels = cv2.bitwise_and(image, image, mask=mask)\n",
    "#make pixels from 0 to 1 form to use in skeletonize\n",
    "c_pixels = c_pixels.clip(0,1)\n",
    "ske_c = skeletonize(c_pixels[:,:,1]).astype(np.uint8)\n",
    "\n",
    "#Edge Detection\n",
    "inputImage =ske_c*255\n",
    "edges = cv2.Canny(inputImage,100,200,apertureSize = 7)\n",
    "#Show edges\n",
    "cv2.imshow('edges', edges)\n",
    "cv2.waitKey(0)\n",
    "cv2.destroyAllWindows()\n",
    "\n",
    "\n",
    "#Find number of components\n",
    "\n",
    "# smooth the image (to remove small objects); set the threshold\n",
    "edgesf = ndimage.gaussian_filter(edges, 1)\n",
    "T = 50 # set threshold by hand to avoid installing `mahotas` or\n",
    "       # `scipy.stsci.image` dependencies that have threshold() functions\n",
    "# find connected components\n",
    "labeled, nr_objects = ndimage.label(edgesf > T) # `dna[:,:,0]>T` for red-dot case\n",
    "print(\"Number of objects is %d \" % nr_objects)\n",
    "\n"
   ]
  },
  {
   "cell_type": "code",
   "execution_count": null,
   "metadata": {},
   "outputs": [],
   "source": []
  }
 ],
 "metadata": {
  "kernelspec": {
   "display_name": "Python 3",
   "language": "python",
   "name": "python3"
  },
  "language_info": {
   "codemirror_mode": {
    "name": "ipython",
    "version": 3
   },
   "file_extension": ".py",
   "mimetype": "text/x-python",
   "name": "python",
   "nbconvert_exporter": "python",
   "pygments_lexer": "ipython3",
   "version": "3.6.8"
  }
 },
 "nbformat": 4,
 "nbformat_minor": 2
}
